{
 "cells": [
  {
   "cell_type": "markdown",
   "metadata": {},
   "source": [
    "# Self-Driving Car Engineer Nanodegree\n",
    "\n",
    "\n",
    "## Project: **Finding Lane Lines on the Road** \n",
    "***\n",
    "In this project, you will use the tools you learned about in the lesson to identify lane lines on the road.  You can develop your pipeline on a series of individual images, and later apply the result to a video stream (really just a series of images). Check out the video clip \"raw-lines-example.mp4\" (also contained in this repository) to see what the output should look like after using the helper functions below. \n",
    "\n",
    "Once you have a result that looks roughly like \"raw-lines-example.mp4\", you'll need to get creative and try to average and/or extrapolate the line segments you've detected to map out the full extent of the lane lines.  You can see an example of the result you're going for in the video \"P1_example.mp4\".  Ultimately, you would like to draw just one line for the left side of the lane, and one for the right.\n",
    "\n",
    "In addition to implementing code, there is a brief writeup to complete. The writeup should be completed in a separate file, which can be either a markdown file or a pdf document. There is a [write up template](https://github.com/udacity/CarND-LaneLines-P1/blob/master/writeup_template.md) that can be used to guide the writing process. Completing both the code in the Ipython notebook and the writeup template will cover all of the [rubric points](https://review.udacity.com/#!/rubrics/322/view) for this project.\n",
    "\n",
    "---\n",
    "Let's have a look at our first image called 'test_images/solidWhiteRight.jpg'.  Run the 2 cells below (hit Shift-Enter or the \"play\" button above) to display the image.\n",
    "\n",
    "**Note: If, at any point, you encounter frozen display windows or other confounding issues, you can always start again with a clean slate by going to the \"Kernel\" menu above and selecting \"Restart & Clear Output\".**\n",
    "\n",
    "---\n"
   ]
  },
  {
   "cell_type": "markdown",
   "metadata": {},
   "source": [
    "## Import Packages"
   ]
  },
  {
   "cell_type": "code",
   "execution_count": 25,
   "metadata": {},
   "outputs": [],
   "source": [
    "import os\n",
    "import csv\n",
    "import cv2\n",
    "import numpy as np\n",
    "import sklearn\n",
    "import matplotlib.pyplot as plt\n",
    "\n",
    "from keras.models import Sequential, Model\n",
    "from keras.layers import Flatten, Dense, Lambda, Cropping2D"
   ]
  },
  {
   "cell_type": "markdown",
   "metadata": {},
   "source": [
    "## Read in an Image"
   ]
  },
  {
   "cell_type": "code",
   "execution_count": 33,
   "metadata": {},
   "outputs": [
    {
     "name": "stdout",
     "output_type": "stream",
     "text": [
      "Train on 1200 samples, validate on 300 samples\n",
      "Epoch 1/10\n",
      "1200/1200 [==============================] - 1s - loss: 1.6742 - val_loss: 0.7393\n",
      "Epoch 2/10\n",
      "1200/1200 [==============================] - 1s - loss: 0.7197 - val_loss: 0.1888ss\n",
      "Epoch 3/10\n",
      "1200/1200 [==============================] - 0s - loss: 0.3337 - val_loss: 0.4075\n",
      "Epoch 4/10\n",
      "1200/1200 [==============================] - 0s - loss: 0.3314 - val_loss: 0.5042\n",
      "Epoch 5/10\n",
      "1200/1200 [==============================] - 0s - loss: 0.3072 - val_loss: 0.1887\n",
      "Epoch 6/10\n",
      "1200/1200 [==============================] - 0s - loss: 0.3552 - val_loss: 0.3921\n",
      "Epoch 7/10\n",
      "1200/1200 [==============================] - 0s - loss: 0.3304 - val_loss: 0.1525\n",
      "Epoch 8/10\n",
      "1200/1200 [==============================] - 0s - loss: 0.8921 - val_loss: 0.5269\n",
      "Epoch 9/10\n",
      "1200/1200 [==============================] - 0s - loss: 1.7423 - val_loss: 0.4790\n",
      "Epoch 10/10\n",
      "1200/1200 [==============================] - 0s - loss: 1.0197 - val_loss: 0.3997\n",
      "dict_keys(['val_loss', 'loss'])\n"
     ]
    },
    {
     "data": {
      "image/png": "[encoded data removed]",
      "text/plain": [
       "<matplotlib.figure.Figure at 0x7f960b70d358>"
      ]
     },
     "metadata": {},
     "output_type": "display_data"
    }
   ],
   "source": [
    "lines = []\n",
    "with open('./data/driving_log.csv') as csvfile:\n",
    "    reader = csv.reader(csvfile)\n",
    "    for line in reader:\n",
    "        lines.append(line)\n",
    "\n",
    "images = []\n",
    "measurements = []\n",
    "correction = 0.2\n",
    "#correction array for center, left and right images accessed in the loop below\n",
    "cr_ar = np.array([0,correction,-correction])\n",
    "for line in lines:\n",
    "    for i in range(3):\n",
    "        source_path = line[i] # 0 - center img, 1- left img and 2- right img\n",
    "        #having multiple folders for different data sets # folder path + img + file path\n",
    "        current_path = './'+line[i].split('/')[-3]+'/IMG/'+line[i].split('/')[-1]\n",
    "        image = cv2.imread(current_path)\n",
    "        images.append(image)\n",
    "        measurement = float(line[3])\n",
    "        measurements.append((measurement+cr_ar[i]))\n",
    "        images.append(np.fliplr(image))\n",
    "        measurements.append(-(measurement+cr_ar[i]))\n",
    "    \n",
    "\n",
    "\n",
    "X_train = np.array(images)\n",
    "y_train = np.array(measurements)\n",
    "\n",
    "\n",
    "#Augment the data\n",
    "\n",
    "# Keras NN\n",
    "model = Sequential()\n",
    "model.add(Cropping2D(cropping=((50,20), (0,0)), input_shape=(160,320,3)))\n",
    "model.add(Lambda(lambda x: (x / 255.0) - 0.5))\n",
    "model.add(Flatten())\n",
    "model.add(Dense(1))\n",
    "model.compile(loss = 'mse',optimizer = 'adam')\n",
    "\n",
    "\n",
    "history_object = model.fit(X_train,y_train,validation_split = 0.2,shuffle=True,nb_epoch = 10,verbose=1)\n",
    "#\"\"\"\n",
    "### print the keys contained in the history object\n",
    "print(history_object.history.keys())\n",
    "\n",
    "### plot the training and validation loss for each epoch\n",
    "plt.plot(history_object.history['loss'])\n",
    "plt.plot(history_object.history['val_loss'])\n",
    "plt.title('model mean squared error loss')\n",
    "plt.ylabel('mean squared error loss')\n",
    "plt.xlabel('epoch')\n",
    "plt.legend(['training set', 'validation set'], loc='upper right')\n",
    "plt.show()\n",
    "\n",
    "model.save('model.h5')\n",
    "#\"\"\"\n"
   ]
  },
  {
   "cell_type": "markdown",
   "metadata": {},
   "source": [
    "## Code with Generator"
   ]
  },
  {
   "cell_type": "code",
   "execution_count": 32,
   "metadata": {},
   "outputs": [
    {
     "name": "stdout",
     "output_type": "stream",
     "text": [
      "Epoch 1/10\n",
      "1200/1200 [==============================] - 2s - loss: 9.8808 - val_loss: 1.8776\n",
      "Epoch 2/10\n",
      "1200/1200 [==============================] - 1s - loss: 5.5302 - val_loss: 7.4065\n",
      "Epoch 3/10\n",
      "1200/1200 [==============================] - 1s - loss: 4.1670 - val_loss: 4.1546\n",
      "Epoch 4/10\n",
      "1200/1200 [==============================] - 1s - loss: 1.8854 - val_loss: 1.9947\n",
      "Epoch 5/10\n",
      "1200/1200 [==============================] - 1s - loss: 1.3711 - val_loss: 0.4894\n",
      "Epoch 6/10\n",
      "1200/1200 [==============================] - 1s - loss: 0.6306 - val_loss: 0.6211\n",
      "Epoch 7/10\n",
      "1200/1200 [==============================] - 1s - loss: 0.3115 - val_loss: 0.4589\n",
      "Epoch 8/10\n",
      "1200/1200 [==============================] - 1s - loss: 0.3388 - val_loss: 0.0506\n",
      "Epoch 9/10\n",
      "1200/1200 [==============================] - 1s - loss: 0.1631 - val_loss: 0.1851\n",
      "Epoch 10/10\n",
      "1200/1200 [==============================] - 1s - loss: 0.0750 - val_loss: 0.1480\n",
      "dict_keys(['val_loss', 'loss'])\n"
     ]
    },
    {
     "data": {
      "image/png": "[encoded data removed]",
      "text/plain": [
       "<matplotlib.figure.Figure at 0x7f960b9a9b00>"
      ]
     },
     "metadata": {},
     "output_type": "display_data"
    }
   ],
   "source": [
    "samples = []\n",
    "\n",
    "with open('./data/driving_log.csv') as csvfile:\n",
    "    reader = csv.reader(csvfile)\n",
    "    for line in reader:\n",
    "        samples.append(line)\n",
    "\n",
    "from sklearn.model_selection import train_test_split\n",
    "train_samples, validation_samples = train_test_split(samples, test_size=0.2)\n",
    "\n",
    "correction = 0.2\n",
    "#correction array for center, left and right images accessed in the loop below\n",
    "cr_ar = np.array([0,correction,-correction])\n",
    "\n",
    "def generator(samples, batch_size=32):\n",
    "    num_samples = len(samples)\n",
    "    while 1: # Loop forever so the generator never terminates\n",
    "        #shuffle(samples)\n",
    "        for offset in range(0, num_samples, batch_size):\n",
    "            batch_samples = samples[offset:offset+batch_size]\n",
    "\n",
    "            images = []\n",
    "            angles = []\n",
    "            for batch_sample in batch_samples:\n",
    "                for i in range(3): # i = 0 - center img, 1- left img and 2- right img\n",
    "                    #having multiple folders for different data sets # folder path + img + file path\n",
    "                    current_path = './'+batch_sample[i].split('/')[-3]+'/IMG/'+batch_sample[i].split('/')[-1]\n",
    "                    image = cv2.imread(current_path)\n",
    "                    angle = float(batch_sample[3])\n",
    "                    images.append(image)\n",
    "                    angles.append(angle+cr_ar[i])\n",
    "                    images.append(np.fliplr(image))\n",
    "                    angles.append(-(angle+cr_ar[i]))\n",
    "\n",
    "            # trim image to only see section with road\n",
    "            X_train = np.array(images)\n",
    "            y_train = np.array(angles)\n",
    "            yield sklearn.utils.shuffle(X_train, y_train)\n",
    "\n",
    "        \n",
    "# compile and train the model using the generator function\n",
    "train_generator = generator(train_samples, batch_size=32)\n",
    "validation_generator = generator(validation_samples, batch_size=32)\n",
    "\n",
    "\n",
    "model = Sequential()\n",
    "model.add(Lambda(lambda x: x/255 - 0.5,\n",
    "        input_shape=(160,320,3),\n",
    "        output_shape=(160,320,3)))\n",
    "model.add(Cropping2D(cropping=((50,20), (0,0))))\n",
    "model.add(Flatten())\n",
    "model.add(Dense(1))\n",
    "model.compile(loss = 'mse',optimizer = 'adam')\n",
    "model.fit_generator(train_generator, samples_per_epoch= len(train_samples)*6,\n",
    "                    validation_data=validation_generator,nb_val_samples=len(validation_samples),nb_epoch=10,verbose=1)\n",
    "\n",
    "\n",
    "### print the keys contained in the history object\n",
    "print(history_object.history.keys())\n",
    "\n",
    "### plot the training and validation loss for each epoch\n",
    "plt.plot(history_object.history['loss'])\n",
    "plt.plot(history_object.history['val_loss'])\n",
    "plt.title('model mean squared error loss')\n",
    "plt.ylabel('mean squared error loss')\n",
    "plt.xlabel('epoch')\n",
    "plt.legend(['training set', 'validation set'], loc='upper right')\n",
    "plt.show()\n",
    "\n",
    "model.save('model.h5')"
   ]
  },
  {
   "cell_type": "markdown",
   "metadata": {},
   "source": [
    "## Ideas for Lane Detection Pipeline"
   ]
  },
  {
   "cell_type": "markdown",
   "metadata": {},
   "source": [
    "Now for the one with the solid yellow lane on the left. This one's more tricky!"
   ]
  }
 ],
 "metadata": {
  "anaconda-cloud": {},
  "kernelspec": {
   "display_name": "Python 3",
   "language": "python",
   "name": "python3"
  },
  "widgets": {
   "state": {},
   "version": "1.1.2"
  }
 },
 "nbformat": 4,
 "nbformat_minor": 1
}
