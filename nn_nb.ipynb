{
 "cells": [
  {
   "cell_type": "markdown",
   "metadata": {},
   "source": [
    "# Self-Driving Car Engineer Nanodegree\n",
    "\n",
    "\n",
    "## Project: **Behavior Cloning** \n",
    "***\n",
    "In this project we will be workin on creating a deep neural network based on the manual driving data from simulator and train it to drive the car autonomously in the simulator.\n",
    "\n",
    "Steering angles are predicted from the image data from dashboard camera.\n",
    "\n",
    "---\n"
   ]
  },
  {
   "cell_type": "markdown",
   "metadata": {},
   "source": [
    "## Import Packages"
   ]
  },
  {
   "cell_type": "code",
   "execution_count": 5,
   "metadata": {},
   "outputs": [],
   "source": [
    "import os\n",
    "import csv\n",
    "import cv2\n",
    "import numpy as np\n",
    "import sklearn\n",
    "import matplotlib.pyplot as plt\n",
    "\n",
    "from keras.models import Sequential, Model\n",
    "from keras.layers import Flatten, Dense, Lambda, Cropping2D, Convolution2D, MaxPooling2D, Dropout\n",
    "from sklearn.model_selection import train_test_split\n",
    "\n",
    "\n",
    "correction = 0.1\n",
    "#correction array for center, left and right images accessed in the loop below\n",
    "cr_ar = np.array([0,correction,-correction])\n",
    "\n",
    "epochs = 3"
   ]
  },
  {
   "cell_type": "code",
   "execution_count": 6,
   "metadata": {},
   "outputs": [
    {
     "name": "stdout",
     "output_type": "stream",
     "text": [
      "load samples\n",
      "loaded\n"
     ]
    }
   ],
   "source": [
    "#Load data, each data folder has different types of data. E.g., data- driving stclockwise, \n",
    "#data -2 driving anti clockwise, data - 4 recovery paths etc etc. \n",
    "print('load samples')\n",
    "samples = []\n",
    "for i in range(1,9):\n",
    "    with open('./data{}/driving_log.csv'.format(i)) as csvfile:\n",
    "        reader = csv.reader(csvfile)\n",
    "        for line in reader:\n",
    "            samples.append(line)\n",
    "print('loaded')"
   ]
  },
  {
   "cell_type": "markdown",
   "metadata": {},
   "source": [
    "## Nvidia Model\n"
   ]
  },
  {
   "cell_type": "code",
   "execution_count": 4,
   "metadata": {},
   "outputs": [
    {
     "name": "stdout",
     "output_type": "stream",
     "text": [
      "Epoch 1/3\n",
      "88146/88146 [==============================] - 463s - loss: 0.0611 - val_loss: 0.0586\n",
      "Epoch 2/3\n",
      "88146/88146 [==============================] - 458s - loss: 0.0572 - val_loss: 0.0483\n",
      "Epoch 3/3\n",
      "88146/88146 [==============================] - 457s - loss: 0.0565 - val_loss: 0.0554\n",
      "dict_keys(['val_loss', 'loss'])\n"
     ]
    },
    {
     "data": {
      "image/png": "[encoded data removed]",
      "text/plain": [
       "<matplotlib.figure.Figure at 0x7fbcc231ae10>"
      ]
     },
     "metadata": {},
     "output_type": "display_data"
    }
   ],
   "source": [
    "#split the data into two portions for training and validation\n",
    "(train_samples, validation_samples) = train_test_split(samples,test_size=0.2)\n",
    "\n",
    "#This function helps parallelise reading and pre processing large amounts data and training the model thus\n",
    "#reducing the memory constraints and speeding up process also.\n",
    "def generator(samples, batch_size=512): #old was 32\n",
    "    num_samples = len(samples)\n",
    "\n",
    "    # Loop forever so the generator never terminates\n",
    "\n",
    "    while 1:\n",
    "        samples = sklearn.utils.shuffle(samples)\n",
    "        for offset in range(0, num_samples, batch_size):\n",
    "\n",
    "            batch_samples = samples[offset:offset + batch_size]\n",
    "            images = []\n",
    "            angles = []\n",
    "            for batch_sample in batch_samples:\n",
    "                for i in range(3):  # i = 0 - center img, 1- left img and 2- right img\n",
    "\n",
    "                    # having multiple folders for different data sets # folder path + img + file path\n",
    "\n",
    "                    current_path = './' + batch_sample[i].split('/'\n",
    "                            )[-3] + '/IMG/' + batch_sample[i].split('/'\n",
    "                            )[-1]\n",
    "                    image = cv2.imread(current_path)\n",
    "                    angle = float(batch_sample[3])\n",
    "                    images.append(image)\n",
    "                    angles.append(angle + cr_ar[i])\n",
    "                    images.append(np.fliplr(image))\n",
    "                    angles.append(-(angle + cr_ar[i]))\n",
    "\n",
    "            # trim image to only see section with road\n",
    "\n",
    "            X_train = np.array(images)\n",
    "            y_train = np.array(angles)\n",
    "            yield sklearn.utils.shuffle(X_train, y_train)\n",
    "\n",
    "\n",
    "# compile and train the model using the generator function\n",
    "\n",
    "train_generator = generator(train_samples, batch_size=32)\n",
    "validation_generator = generator(validation_samples, batch_size=32)\n",
    "\n",
    "# Nvidia Architecture as proposed in their end to end driving model\n",
    "model = Sequential()\n",
    "model.add(Lambda(lambda x: x / 255 - 0.5, input_shape=(160, 320, 3),\n",
    "          output_shape=(160, 320, 3)))\n",
    "model.add(Cropping2D(cropping=((50, 20), (0, 0))))\n",
    "model.add(Convolution2D(24, 5, 5, activation='relu'))\n",
    "model.add(MaxPooling2D())\n",
    "model.add(Convolution2D(36, 5, 5, activation='relu'))\n",
    "model.add(MaxPooling2D())\n",
    "model.add(Convolution2D(48, 5, 5, activation='relu'))\n",
    "model.add(MaxPooling2D())\n",
    "model.add(Convolution2D(64, 3, 3, activation='relu'))\n",
    "model.add(Convolution2D(64, 3, 3, activation='relu'))\n",
    "model.add(Flatten())\n",
    "model.add(Dropout(0.4))\n",
    "model.add(Dense(120))\n",
    "model.add(Dropout(0.3))\n",
    "model.add(Dense(84))\n",
    "model.add(Dense(1))\n",
    "\n",
    "model.compile(loss='mse', optimizer='adam')\n",
    "history_object = model.fit_generator(\n",
    "    train_generator,\n",
    "    samples_per_epoch=len(train_samples) * 6,\n",
    "    validation_data=validation_generator,\n",
    "    nb_val_samples=len(validation_samples),\n",
    "    nb_epoch=epochs,\n",
    "    verbose=1,\n",
    "    )\n",
    "\n",
    "#Keys contained in the history object\n",
    "\n",
    "print(history_object.history.keys())\n",
    "\n",
    "#Plot the training and validation loss for each epoch\n",
    "\n",
    "plt.plot(history_object.history['loss'])\n",
    "plt.plot(history_object.history['val_loss'])\n",
    "plt.title('model mean squared error loss')\n",
    "plt.ylabel('mean squared error loss')\n",
    "plt.xlabel('epoch')\n",
    "plt.legend(['training set', 'validation set'], loc='upper right')\n",
    "plt.show()\n",
    "\n",
    "model.save('model_n_1.h5')\n",
    "\n"
   ]
  }
 ],
 "metadata": {
  "anaconda-cloud": {},
  "kernelspec": {
   "display_name": "Python 3",
   "language": "python",
   "name": "python3"
  },
  "language_info": {
   "codemirror_mode": {
    "name": "ipython",
    "version": 3
   },
   "file_extension": ".py",
   "mimetype": "text/x-python",
   "name": "python",
   "nbconvert_exporter": "python",
   "pygments_lexer": "ipython3",
   "version": "3.5.2"
  },
  "widgets": {
   "state": {},
   "version": "1.1.2"
  }
 },
 "nbformat": 4,
 "nbformat_minor": 1
}
